{
 "cells": [
  {
   "cell_type": "markdown",
   "id": "76aeb83b",
   "metadata": {
    "papermill": {
     "duration": 0.019161,
     "end_time": "2021-09-11T14:25:42.203014",
     "exception": false,
     "start_time": "2021-09-11T14:25:42.183853",
     "status": "completed"
    },
    "tags": []
   },
   "source": [
    "![](https://2rdnmg1qbg403gumla1v9i2h-wpengine.netdna-ssl.com/wp-content/uploads/sites/3/2014/04/brainFacts-579411100-770x533-1-745x490.jpg)"
   ]
  },
  {
   "cell_type": "markdown",
   "id": "e922e310",
   "metadata": {
    "papermill": {
     "duration": 0.017834,
     "end_time": "2021-09-11T14:25:42.239257",
     "exception": false,
     "start_time": "2021-09-11T14:25:42.221423",
     "status": "completed"
    },
    "tags": []
   },
   "source": [
    "Problem in hand : Given EEG data from subjects who were watching movies, let's try to predict the emotional state of a subject during a given movie."
   ]
  },
  {
   "cell_type": "markdown",
   "id": "ddc5bc6c",
   "metadata": {
    "papermill": {
     "duration": 0.017897,
     "end_time": "2021-09-11T14:25:42.275244",
     "exception": false,
     "start_time": "2021-09-11T14:25:42.257347",
     "status": "completed"
    },
    "tags": []
   },
   "source": [
    "### Importing necessary libraries"
   ]
  },
  {
   "cell_type": "code",
   "execution_count": 1,
   "id": "108752e9",
   "metadata": {
    "execution": {
     "iopub.execute_input": "2021-09-11T14:25:42.327624Z",
     "iopub.status.busy": "2021-09-11T14:25:42.326839Z",
     "iopub.status.idle": "2021-09-11T14:25:47.682952Z",
     "shell.execute_reply": "2021-09-11T14:25:47.682368Z",
     "shell.execute_reply.started": "2021-09-11T14:00:00.043025Z"
    },
    "papermill": {
     "duration": 5.389818,
     "end_time": "2021-09-11T14:25:47.683135",
     "exception": false,
     "start_time": "2021-09-11T14:25:42.293317",
     "status": "completed"
    },
    "tags": []
   },
   "outputs": [],
   "source": [
    "import tensorflow.compat.v1 as tf\n",
    "from sklearn.metrics import confusion_matrix\n",
    "import numpy as np\n",
    "from scipy.io import loadmat\n",
    "import os\n",
    "from pywt import wavedec\n",
    "from functools import reduce\n",
    "from scipy import signal\n",
    "from scipy.stats import entropy\n",
    "from scipy.fft import fft, ifft\n",
    "import pandas as pd\n",
    "from sklearn.model_selection import train_test_split, StratifiedKFold\n",
    "from sklearn.preprocessing import StandardScaler\n",
    "from tensorflow import keras as K\n",
    "import matplotlib.pyplot as plt\n",
    "import scipy\n",
    "from sklearn import metrics\n",
    "from sklearn.ensemble import RandomForestClassifier\n",
    "from sklearn.neighbors import KNeighborsClassifier\n",
    "from sklearn.svm import SVC\n",
    "from sklearn.metrics import accuracy_score\n",
    "from sklearn.model_selection import KFold,cross_validate\n",
    "from tensorflow.keras.layers import Dense, Activation, Flatten, concatenate, Input, Dropout, LSTM, Bidirectional,BatchNormalization,PReLU,ReLU,Reshape\n",
    "from keras.wrappers.scikit_learn import KerasClassifier\n",
    "from sklearn.metrics import classification_report\n",
    "from tensorflow.keras.models import Sequential, Model, load_model\n",
    "import matplotlib.pyplot as plt;\n",
    "from tensorflow.keras.callbacks import EarlyStopping, ModelCheckpoint\n",
    "from sklearn.decomposition import PCA\n",
    "from sklearn.model_selection import cross_val_score\n",
    "from tensorflow import keras\n",
    "from tensorflow.keras.layers import Conv1D,Conv2D,Add\n",
    "from tensorflow.keras.layers import MaxPool1D, MaxPooling2D\n",
    "import seaborn as sns"
   ]
  },
  {
   "cell_type": "markdown",
   "id": "86e9775a",
   "metadata": {
    "papermill": {
     "duration": 0.017784,
     "end_time": "2021-09-11T14:25:47.719419",
     "exception": false,
     "start_time": "2021-09-11T14:25:47.701635",
     "status": "completed"
    },
    "tags": []
   },
   "source": [
    "### Reading EEG data with feature extracted "
   ]
  },
  {
   "cell_type": "code",
   "execution_count": 2,
   "id": "6e73bd43",
   "metadata": {
    "execution": {
     "iopub.execute_input": "2021-09-11T14:25:47.759545Z",
     "iopub.status.busy": "2021-09-11T14:25:47.758975Z",
     "iopub.status.idle": "2021-09-11T14:25:49.767747Z",
     "shell.execute_reply": "2021-09-11T14:25:49.768277Z",
     "shell.execute_reply.started": "2021-09-11T14:00:05.815409Z"
    },
    "papermill": {
     "duration": 2.03101,
     "end_time": "2021-09-11T14:25:49.768427",
     "exception": false,
     "start_time": "2021-09-11T14:25:47.737417",
     "status": "completed"
    },
    "tags": []
   },
   "outputs": [
    {
     "name": "stdout",
     "output_type": "stream",
     "text": [
      "<class 'pandas.core.frame.DataFrame'>\n",
      "RangeIndex: 2132 entries, 0 to 2131\n",
      "Columns: 2549 entries, # mean_0_a to label\n",
      "dtypes: float64(2548), object(1)\n",
      "memory usage: 41.5+ MB\n",
      "None\n"
     ]
    }
   ],
   "source": [
    "data = pd.read_csv(\"../input/eeg-brainwave-dataset-feeling-emotions/emotions.csv\")\n",
    "print(data.info())"
   ]
  },
  {
   "cell_type": "code",
   "execution_count": 3,
   "id": "8c0a18c5",
   "metadata": {
    "execution": {
     "iopub.execute_input": "2021-09-11T14:25:49.815600Z",
     "iopub.status.busy": "2021-09-11T14:25:49.814860Z",
     "iopub.status.idle": "2021-09-11T14:25:49.852929Z",
     "shell.execute_reply": "2021-09-11T14:25:49.853365Z",
     "shell.execute_reply.started": "2021-09-11T14:00:08.020231Z"
    },
    "papermill": {
     "duration": 0.065724,
     "end_time": "2021-09-11T14:25:49.853501",
     "exception": false,
     "start_time": "2021-09-11T14:25:49.787777",
     "status": "completed"
    },
    "tags": []
   },
   "outputs": [
    {
     "data": {
      "text/html": [
       "<div>\n",
       "<style scoped>\n",
       "    .dataframe tbody tr th:only-of-type {\n",
       "        vertical-align: middle;\n",
       "    }\n",
       "\n",
       "    .dataframe tbody tr th {\n",
       "        vertical-align: top;\n",
       "    }\n",
       "\n",
       "    .dataframe thead th {\n",
       "        text-align: right;\n",
       "    }\n",
       "</style>\n",
       "<table border=\"1\" class=\"dataframe\">\n",
       "  <thead>\n",
       "    <tr style=\"text-align: right;\">\n",
       "      <th></th>\n",
       "      <th># mean_0_a</th>\n",
       "      <th>mean_1_a</th>\n",
       "      <th>mean_2_a</th>\n",
       "      <th>mean_3_a</th>\n",
       "      <th>mean_4_a</th>\n",
       "      <th>mean_d_0_a</th>\n",
       "      <th>mean_d_1_a</th>\n",
       "      <th>mean_d_2_a</th>\n",
       "      <th>mean_d_3_a</th>\n",
       "      <th>mean_d_4_a</th>\n",
       "      <th>...</th>\n",
       "      <th>fft_741_b</th>\n",
       "      <th>fft_742_b</th>\n",
       "      <th>fft_743_b</th>\n",
       "      <th>fft_744_b</th>\n",
       "      <th>fft_745_b</th>\n",
       "      <th>fft_746_b</th>\n",
       "      <th>fft_747_b</th>\n",
       "      <th>fft_748_b</th>\n",
       "      <th>fft_749_b</th>\n",
       "      <th>label</th>\n",
       "    </tr>\n",
       "  </thead>\n",
       "  <tbody>\n",
       "    <tr>\n",
       "      <th>0</th>\n",
       "      <td>4.620</td>\n",
       "      <td>30.3</td>\n",
       "      <td>-356.0</td>\n",
       "      <td>15.60</td>\n",
       "      <td>26.3</td>\n",
       "      <td>1.070</td>\n",
       "      <td>0.411</td>\n",
       "      <td>-15.700</td>\n",
       "      <td>2.060</td>\n",
       "      <td>3.15</td>\n",
       "      <td>...</td>\n",
       "      <td>23.50</td>\n",
       "      <td>20.300</td>\n",
       "      <td>20.300</td>\n",
       "      <td>23.50</td>\n",
       "      <td>-215.0</td>\n",
       "      <td>280.00</td>\n",
       "      <td>-162.00</td>\n",
       "      <td>-162.00</td>\n",
       "      <td>280.00</td>\n",
       "      <td>NEGATIVE</td>\n",
       "    </tr>\n",
       "    <tr>\n",
       "      <th>1</th>\n",
       "      <td>28.800</td>\n",
       "      <td>33.1</td>\n",
       "      <td>32.0</td>\n",
       "      <td>25.80</td>\n",
       "      <td>22.8</td>\n",
       "      <td>6.550</td>\n",
       "      <td>1.680</td>\n",
       "      <td>2.880</td>\n",
       "      <td>3.830</td>\n",
       "      <td>-4.82</td>\n",
       "      <td>...</td>\n",
       "      <td>-23.30</td>\n",
       "      <td>-21.800</td>\n",
       "      <td>-21.800</td>\n",
       "      <td>-23.30</td>\n",
       "      <td>182.0</td>\n",
       "      <td>2.57</td>\n",
       "      <td>-31.60</td>\n",
       "      <td>-31.60</td>\n",
       "      <td>2.57</td>\n",
       "      <td>NEUTRAL</td>\n",
       "    </tr>\n",
       "    <tr>\n",
       "      <th>2</th>\n",
       "      <td>8.900</td>\n",
       "      <td>29.4</td>\n",
       "      <td>-416.0</td>\n",
       "      <td>16.70</td>\n",
       "      <td>23.7</td>\n",
       "      <td>79.900</td>\n",
       "      <td>3.360</td>\n",
       "      <td>90.200</td>\n",
       "      <td>89.900</td>\n",
       "      <td>2.03</td>\n",
       "      <td>...</td>\n",
       "      <td>462.00</td>\n",
       "      <td>-233.000</td>\n",
       "      <td>-233.000</td>\n",
       "      <td>462.00</td>\n",
       "      <td>-267.0</td>\n",
       "      <td>281.00</td>\n",
       "      <td>-148.00</td>\n",
       "      <td>-148.00</td>\n",
       "      <td>281.00</td>\n",
       "      <td>POSITIVE</td>\n",
       "    </tr>\n",
       "    <tr>\n",
       "      <th>3</th>\n",
       "      <td>14.900</td>\n",
       "      <td>31.6</td>\n",
       "      <td>-143.0</td>\n",
       "      <td>19.80</td>\n",
       "      <td>24.3</td>\n",
       "      <td>-0.584</td>\n",
       "      <td>-0.284</td>\n",
       "      <td>8.820</td>\n",
       "      <td>2.300</td>\n",
       "      <td>-1.97</td>\n",
       "      <td>...</td>\n",
       "      <td>299.00</td>\n",
       "      <td>-243.000</td>\n",
       "      <td>-243.000</td>\n",
       "      <td>299.00</td>\n",
       "      <td>132.0</td>\n",
       "      <td>-12.40</td>\n",
       "      <td>9.53</td>\n",
       "      <td>9.53</td>\n",
       "      <td>-12.40</td>\n",
       "      <td>POSITIVE</td>\n",
       "    </tr>\n",
       "    <tr>\n",
       "      <th>4</th>\n",
       "      <td>28.300</td>\n",
       "      <td>31.3</td>\n",
       "      <td>45.2</td>\n",
       "      <td>27.30</td>\n",
       "      <td>24.5</td>\n",
       "      <td>34.800</td>\n",
       "      <td>-5.790</td>\n",
       "      <td>3.060</td>\n",
       "      <td>41.400</td>\n",
       "      <td>5.52</td>\n",
       "      <td>...</td>\n",
       "      <td>12.00</td>\n",
       "      <td>38.100</td>\n",
       "      <td>38.100</td>\n",
       "      <td>12.00</td>\n",
       "      <td>119.0</td>\n",
       "      <td>-17.60</td>\n",
       "      <td>23.90</td>\n",
       "      <td>23.90</td>\n",
       "      <td>-17.60</td>\n",
       "      <td>NEUTRAL</td>\n",
       "    </tr>\n",
       "    <tr>\n",
       "      <th>...</th>\n",
       "      <td>...</td>\n",
       "      <td>...</td>\n",
       "      <td>...</td>\n",
       "      <td>...</td>\n",
       "      <td>...</td>\n",
       "      <td>...</td>\n",
       "      <td>...</td>\n",
       "      <td>...</td>\n",
       "      <td>...</td>\n",
       "      <td>...</td>\n",
       "      <td>...</td>\n",
       "      <td>...</td>\n",
       "      <td>...</td>\n",
       "      <td>...</td>\n",
       "      <td>...</td>\n",
       "      <td>...</td>\n",
       "      <td>...</td>\n",
       "      <td>...</td>\n",
       "      <td>...</td>\n",
       "      <td>...</td>\n",
       "      <td>...</td>\n",
       "    </tr>\n",
       "    <tr>\n",
       "      <th>2127</th>\n",
       "      <td>32.400</td>\n",
       "      <td>32.2</td>\n",
       "      <td>32.2</td>\n",
       "      <td>30.80</td>\n",
       "      <td>23.4</td>\n",
       "      <td>1.640</td>\n",
       "      <td>-2.030</td>\n",
       "      <td>0.647</td>\n",
       "      <td>-0.121</td>\n",
       "      <td>-1.10</td>\n",
       "      <td>...</td>\n",
       "      <td>-21.70</td>\n",
       "      <td>0.218</td>\n",
       "      <td>0.218</td>\n",
       "      <td>-21.70</td>\n",
       "      <td>95.2</td>\n",
       "      <td>-19.90</td>\n",
       "      <td>47.20</td>\n",
       "      <td>47.20</td>\n",
       "      <td>-19.90</td>\n",
       "      <td>NEUTRAL</td>\n",
       "    </tr>\n",
       "    <tr>\n",
       "      <th>2128</th>\n",
       "      <td>16.300</td>\n",
       "      <td>31.3</td>\n",
       "      <td>-284.0</td>\n",
       "      <td>14.30</td>\n",
       "      <td>23.9</td>\n",
       "      <td>4.200</td>\n",
       "      <td>1.090</td>\n",
       "      <td>4.460</td>\n",
       "      <td>4.720</td>\n",
       "      <td>6.63</td>\n",
       "      <td>...</td>\n",
       "      <td>594.00</td>\n",
       "      <td>-324.000</td>\n",
       "      <td>-324.000</td>\n",
       "      <td>594.00</td>\n",
       "      <td>-35.5</td>\n",
       "      <td>142.00</td>\n",
       "      <td>-59.80</td>\n",
       "      <td>-59.80</td>\n",
       "      <td>142.00</td>\n",
       "      <td>POSITIVE</td>\n",
       "    </tr>\n",
       "    <tr>\n",
       "      <th>2129</th>\n",
       "      <td>-0.547</td>\n",
       "      <td>28.3</td>\n",
       "      <td>-259.0</td>\n",
       "      <td>15.80</td>\n",
       "      <td>26.7</td>\n",
       "      <td>9.080</td>\n",
       "      <td>6.900</td>\n",
       "      <td>12.700</td>\n",
       "      <td>2.030</td>\n",
       "      <td>4.64</td>\n",
       "      <td>...</td>\n",
       "      <td>370.00</td>\n",
       "      <td>-160.000</td>\n",
       "      <td>-160.000</td>\n",
       "      <td>370.00</td>\n",
       "      <td>408.0</td>\n",
       "      <td>-169.00</td>\n",
       "      <td>-10.50</td>\n",
       "      <td>-10.50</td>\n",
       "      <td>-169.00</td>\n",
       "      <td>NEGATIVE</td>\n",
       "    </tr>\n",
       "    <tr>\n",
       "      <th>2130</th>\n",
       "      <td>16.800</td>\n",
       "      <td>19.9</td>\n",
       "      <td>-288.0</td>\n",
       "      <td>8.34</td>\n",
       "      <td>26.0</td>\n",
       "      <td>2.460</td>\n",
       "      <td>1.580</td>\n",
       "      <td>-16.000</td>\n",
       "      <td>1.690</td>\n",
       "      <td>4.74</td>\n",
       "      <td>...</td>\n",
       "      <td>124.00</td>\n",
       "      <td>-27.600</td>\n",
       "      <td>-27.600</td>\n",
       "      <td>124.00</td>\n",
       "      <td>-656.0</td>\n",
       "      <td>552.00</td>\n",
       "      <td>-271.00</td>\n",
       "      <td>-271.00</td>\n",
       "      <td>552.00</td>\n",
       "      <td>NEGATIVE</td>\n",
       "    </tr>\n",
       "    <tr>\n",
       "      <th>2131</th>\n",
       "      <td>27.000</td>\n",
       "      <td>32.0</td>\n",
       "      <td>31.8</td>\n",
       "      <td>25.00</td>\n",
       "      <td>28.9</td>\n",
       "      <td>4.990</td>\n",
       "      <td>1.950</td>\n",
       "      <td>6.210</td>\n",
       "      <td>3.490</td>\n",
       "      <td>-3.51</td>\n",
       "      <td>...</td>\n",
       "      <td>1.95</td>\n",
       "      <td>1.810</td>\n",
       "      <td>1.810</td>\n",
       "      <td>1.95</td>\n",
       "      <td>110.0</td>\n",
       "      <td>-6.71</td>\n",
       "      <td>22.80</td>\n",
       "      <td>22.80</td>\n",
       "      <td>-6.71</td>\n",
       "      <td>NEUTRAL</td>\n",
       "    </tr>\n",
       "  </tbody>\n",
       "</table>\n",
       "<p>2132 rows × 2549 columns</p>\n",
       "</div>"
      ],
      "text/plain": [
       "      # mean_0_a  mean_1_a  mean_2_a  mean_3_a  mean_4_a  mean_d_0_a  \\\n",
       "0          4.620      30.3    -356.0     15.60      26.3       1.070   \n",
       "1         28.800      33.1      32.0     25.80      22.8       6.550   \n",
       "2          8.900      29.4    -416.0     16.70      23.7      79.900   \n",
       "3         14.900      31.6    -143.0     19.80      24.3      -0.584   \n",
       "4         28.300      31.3      45.2     27.30      24.5      34.800   \n",
       "...          ...       ...       ...       ...       ...         ...   \n",
       "2127      32.400      32.2      32.2     30.80      23.4       1.640   \n",
       "2128      16.300      31.3    -284.0     14.30      23.9       4.200   \n",
       "2129      -0.547      28.3    -259.0     15.80      26.7       9.080   \n",
       "2130      16.800      19.9    -288.0      8.34      26.0       2.460   \n",
       "2131      27.000      32.0      31.8     25.00      28.9       4.990   \n",
       "\n",
       "      mean_d_1_a  mean_d_2_a  mean_d_3_a  mean_d_4_a  ...  fft_741_b  \\\n",
       "0          0.411     -15.700       2.060        3.15  ...      23.50   \n",
       "1          1.680       2.880       3.830       -4.82  ...     -23.30   \n",
       "2          3.360      90.200      89.900        2.03  ...     462.00   \n",
       "3         -0.284       8.820       2.300       -1.97  ...     299.00   \n",
       "4         -5.790       3.060      41.400        5.52  ...      12.00   \n",
       "...          ...         ...         ...         ...  ...        ...   \n",
       "2127      -2.030       0.647      -0.121       -1.10  ...     -21.70   \n",
       "2128       1.090       4.460       4.720        6.63  ...     594.00   \n",
       "2129       6.900      12.700       2.030        4.64  ...     370.00   \n",
       "2130       1.580     -16.000       1.690        4.74  ...     124.00   \n",
       "2131       1.950       6.210       3.490       -3.51  ...       1.95   \n",
       "\n",
       "      fft_742_b  fft_743_b  fft_744_b  fft_745_b  fft_746_b  fft_747_b  \\\n",
       "0        20.300     20.300      23.50     -215.0     280.00    -162.00   \n",
       "1       -21.800    -21.800     -23.30      182.0       2.57     -31.60   \n",
       "2      -233.000   -233.000     462.00     -267.0     281.00    -148.00   \n",
       "3      -243.000   -243.000     299.00      132.0     -12.40       9.53   \n",
       "4        38.100     38.100      12.00      119.0     -17.60      23.90   \n",
       "...         ...        ...        ...        ...        ...        ...   \n",
       "2127      0.218      0.218     -21.70       95.2     -19.90      47.20   \n",
       "2128   -324.000   -324.000     594.00      -35.5     142.00     -59.80   \n",
       "2129   -160.000   -160.000     370.00      408.0    -169.00     -10.50   \n",
       "2130    -27.600    -27.600     124.00     -656.0     552.00    -271.00   \n",
       "2131      1.810      1.810       1.95      110.0      -6.71      22.80   \n",
       "\n",
       "      fft_748_b  fft_749_b     label  \n",
       "0       -162.00     280.00  NEGATIVE  \n",
       "1        -31.60       2.57   NEUTRAL  \n",
       "2       -148.00     281.00  POSITIVE  \n",
       "3          9.53     -12.40  POSITIVE  \n",
       "4         23.90     -17.60   NEUTRAL  \n",
       "...         ...        ...       ...  \n",
       "2127      47.20     -19.90   NEUTRAL  \n",
       "2128     -59.80     142.00  POSITIVE  \n",
       "2129     -10.50    -169.00  NEGATIVE  \n",
       "2130    -271.00     552.00  NEGATIVE  \n",
       "2131      22.80      -6.71   NEUTRAL  \n",
       "\n",
       "[2132 rows x 2549 columns]"
      ]
     },
     "execution_count": 3,
     "metadata": {},
     "output_type": "execute_result"
    }
   ],
   "source": [
    "data"
   ]
  },
  {
   "cell_type": "markdown",
   "id": "faec73c1",
   "metadata": {
    "papermill": {
     "duration": 0.018746,
     "end_time": "2021-09-11T14:25:49.891343",
     "exception": false,
     "start_time": "2021-09-11T14:25:49.872597",
     "status": "completed"
    },
    "tags": []
   },
   "source": [
    "### Viewing a sample of time series data "
   ]
  },
  {
   "cell_type": "code",
   "execution_count": 4,
   "id": "4e0d0650",
   "metadata": {
    "execution": {
     "iopub.execute_input": "2021-09-11T14:25:49.939814Z",
     "iopub.status.busy": "2021-09-11T14:25:49.938522Z",
     "iopub.status.idle": "2021-09-11T14:25:49.941373Z",
     "shell.execute_reply": "2021-09-11T14:25:49.940932Z",
     "shell.execute_reply.started": "2021-09-11T14:00:08.070564Z"
    },
    "papermill": {
     "duration": 0.03137,
     "end_time": "2021-09-11T14:25:49.941483",
     "exception": false,
     "start_time": "2021-09-11T14:25:49.910113",
     "status": "completed"
    },
    "tags": []
   },
   "outputs": [],
   "source": [
    "fft_data = data.loc[:,'fft_0_b':'fft_749_b']"
   ]
  },
  {
   "cell_type": "code",
   "execution_count": 5,
   "id": "0e4736e1",
   "metadata": {
    "execution": {
     "iopub.execute_input": "2021-09-11T14:25:49.991679Z",
     "iopub.status.busy": "2021-09-11T14:25:49.984958Z",
     "iopub.status.idle": "2021-09-11T14:25:50.019684Z",
     "shell.execute_reply": "2021-09-11T14:25:50.020105Z",
     "shell.execute_reply.started": "2021-09-11T14:00:08.083654Z"
    },
    "papermill": {
     "duration": 0.060145,
     "end_time": "2021-09-11T14:25:50.020251",
     "exception": false,
     "start_time": "2021-09-11T14:25:49.960106",
     "status": "completed"
    },
    "tags": []
   },
   "outputs": [
    {
     "data": {
      "text/html": [
       "<div>\n",
       "<style scoped>\n",
       "    .dataframe tbody tr th:only-of-type {\n",
       "        vertical-align: middle;\n",
       "    }\n",
       "\n",
       "    .dataframe tbody tr th {\n",
       "        vertical-align: top;\n",
       "    }\n",
       "\n",
       "    .dataframe thead th {\n",
       "        text-align: right;\n",
       "    }\n",
       "</style>\n",
       "<table border=\"1\" class=\"dataframe\">\n",
       "  <thead>\n",
       "    <tr style=\"text-align: right;\">\n",
       "      <th></th>\n",
       "      <th>fft_0_b</th>\n",
       "      <th>fft_1_b</th>\n",
       "      <th>fft_2_b</th>\n",
       "      <th>fft_3_b</th>\n",
       "      <th>fft_4_b</th>\n",
       "      <th>fft_5_b</th>\n",
       "      <th>fft_6_b</th>\n",
       "      <th>fft_7_b</th>\n",
       "      <th>fft_8_b</th>\n",
       "      <th>fft_9_b</th>\n",
       "      <th>...</th>\n",
       "      <th>fft_740_b</th>\n",
       "      <th>fft_741_b</th>\n",
       "      <th>fft_742_b</th>\n",
       "      <th>fft_743_b</th>\n",
       "      <th>fft_744_b</th>\n",
       "      <th>fft_745_b</th>\n",
       "      <th>fft_746_b</th>\n",
       "      <th>fft_747_b</th>\n",
       "      <th>fft_748_b</th>\n",
       "      <th>fft_749_b</th>\n",
       "    </tr>\n",
       "  </thead>\n",
       "  <tbody>\n",
       "    <tr>\n",
       "      <th>0</th>\n",
       "      <td>-508.0</td>\n",
       "      <td>438.00</td>\n",
       "      <td>-222.00</td>\n",
       "      <td>-222.00</td>\n",
       "      <td>438.00</td>\n",
       "      <td>143.0</td>\n",
       "      <td>59.40</td>\n",
       "      <td>5.05</td>\n",
       "      <td>5.05</td>\n",
       "      <td>59.40</td>\n",
       "      <td>...</td>\n",
       "      <td>74.3</td>\n",
       "      <td>23.50</td>\n",
       "      <td>20.300</td>\n",
       "      <td>20.300</td>\n",
       "      <td>23.50</td>\n",
       "      <td>-215.0</td>\n",
       "      <td>280.00</td>\n",
       "      <td>-162.00</td>\n",
       "      <td>-162.00</td>\n",
       "      <td>280.00</td>\n",
       "    </tr>\n",
       "    <tr>\n",
       "      <th>1</th>\n",
       "      <td>126.0</td>\n",
       "      <td>-4.00</td>\n",
       "      <td>7.42</td>\n",
       "      <td>7.42</td>\n",
       "      <td>-4.00</td>\n",
       "      <td>81.6</td>\n",
       "      <td>-22.30</td>\n",
       "      <td>35.30</td>\n",
       "      <td>35.30</td>\n",
       "      <td>-22.30</td>\n",
       "      <td>...</td>\n",
       "      <td>130.0</td>\n",
       "      <td>-23.30</td>\n",
       "      <td>-21.800</td>\n",
       "      <td>-21.800</td>\n",
       "      <td>-23.30</td>\n",
       "      <td>182.0</td>\n",
       "      <td>2.57</td>\n",
       "      <td>-31.60</td>\n",
       "      <td>-31.60</td>\n",
       "      <td>2.57</td>\n",
       "    </tr>\n",
       "    <tr>\n",
       "      <th>2</th>\n",
       "      <td>-85.9</td>\n",
       "      <td>361.00</td>\n",
       "      <td>-62.20</td>\n",
       "      <td>-62.20</td>\n",
       "      <td>361.00</td>\n",
       "      <td>-558.0</td>\n",
       "      <td>684.00</td>\n",
       "      <td>-152.00</td>\n",
       "      <td>-152.00</td>\n",
       "      <td>684.00</td>\n",
       "      <td>...</td>\n",
       "      <td>-534.0</td>\n",
       "      <td>462.00</td>\n",
       "      <td>-233.000</td>\n",
       "      <td>-233.000</td>\n",
       "      <td>462.00</td>\n",
       "      <td>-267.0</td>\n",
       "      <td>281.00</td>\n",
       "      <td>-148.00</td>\n",
       "      <td>-148.00</td>\n",
       "      <td>281.00</td>\n",
       "    </tr>\n",
       "    <tr>\n",
       "      <th>3</th>\n",
       "      <td>69.5</td>\n",
       "      <td>3.89</td>\n",
       "      <td>12.10</td>\n",
       "      <td>12.10</td>\n",
       "      <td>3.89</td>\n",
       "      <td>-188.0</td>\n",
       "      <td>274.00</td>\n",
       "      <td>-200.00</td>\n",
       "      <td>-200.00</td>\n",
       "      <td>274.00</td>\n",
       "      <td>...</td>\n",
       "      <td>-183.0</td>\n",
       "      <td>299.00</td>\n",
       "      <td>-243.000</td>\n",
       "      <td>-243.000</td>\n",
       "      <td>299.00</td>\n",
       "      <td>132.0</td>\n",
       "      <td>-12.40</td>\n",
       "      <td>9.53</td>\n",
       "      <td>9.53</td>\n",
       "      <td>-12.40</td>\n",
       "    </tr>\n",
       "    <tr>\n",
       "      <th>4</th>\n",
       "      <td>226.0</td>\n",
       "      <td>-27.40</td>\n",
       "      <td>147.00</td>\n",
       "      <td>147.00</td>\n",
       "      <td>-27.40</td>\n",
       "      <td>301.0</td>\n",
       "      <td>-8.48</td>\n",
       "      <td>138.00</td>\n",
       "      <td>138.00</td>\n",
       "      <td>-8.48</td>\n",
       "      <td>...</td>\n",
       "      <td>114.0</td>\n",
       "      <td>12.00</td>\n",
       "      <td>38.100</td>\n",
       "      <td>38.100</td>\n",
       "      <td>12.00</td>\n",
       "      <td>119.0</td>\n",
       "      <td>-17.60</td>\n",
       "      <td>23.90</td>\n",
       "      <td>23.90</td>\n",
       "      <td>-17.60</td>\n",
       "    </tr>\n",
       "    <tr>\n",
       "      <th>...</th>\n",
       "      <td>...</td>\n",
       "      <td>...</td>\n",
       "      <td>...</td>\n",
       "      <td>...</td>\n",
       "      <td>...</td>\n",
       "      <td>...</td>\n",
       "      <td>...</td>\n",
       "      <td>...</td>\n",
       "      <td>...</td>\n",
       "      <td>...</td>\n",
       "      <td>...</td>\n",
       "      <td>...</td>\n",
       "      <td>...</td>\n",
       "      <td>...</td>\n",
       "      <td>...</td>\n",
       "      <td>...</td>\n",
       "      <td>...</td>\n",
       "      <td>...</td>\n",
       "      <td>...</td>\n",
       "      <td>...</td>\n",
       "      <td>...</td>\n",
       "    </tr>\n",
       "    <tr>\n",
       "      <th>2127</th>\n",
       "      <td>105.0</td>\n",
       "      <td>3.37</td>\n",
       "      <td>29.20</td>\n",
       "      <td>29.20</td>\n",
       "      <td>3.37</td>\n",
       "      <td>151.0</td>\n",
       "      <td>-19.40</td>\n",
       "      <td>8.89</td>\n",
       "      <td>8.89</td>\n",
       "      <td>-19.40</td>\n",
       "      <td>...</td>\n",
       "      <td>155.0</td>\n",
       "      <td>-21.70</td>\n",
       "      <td>0.218</td>\n",
       "      <td>0.218</td>\n",
       "      <td>-21.70</td>\n",
       "      <td>95.2</td>\n",
       "      <td>-19.90</td>\n",
       "      <td>47.20</td>\n",
       "      <td>47.20</td>\n",
       "      <td>-19.90</td>\n",
       "    </tr>\n",
       "    <tr>\n",
       "      <th>2128</th>\n",
       "      <td>-23.0</td>\n",
       "      <td>202.00</td>\n",
       "      <td>-81.60</td>\n",
       "      <td>-81.60</td>\n",
       "      <td>202.00</td>\n",
       "      <td>-345.0</td>\n",
       "      <td>404.00</td>\n",
       "      <td>-205.00</td>\n",
       "      <td>-205.00</td>\n",
       "      <td>404.00</td>\n",
       "      <td>...</td>\n",
       "      <td>-661.0</td>\n",
       "      <td>594.00</td>\n",
       "      <td>-324.000</td>\n",
       "      <td>-324.000</td>\n",
       "      <td>594.00</td>\n",
       "      <td>-35.5</td>\n",
       "      <td>142.00</td>\n",
       "      <td>-59.80</td>\n",
       "      <td>-59.80</td>\n",
       "      <td>142.00</td>\n",
       "    </tr>\n",
       "    <tr>\n",
       "      <th>2129</th>\n",
       "      <td>-288.0</td>\n",
       "      <td>312.00</td>\n",
       "      <td>-259.00</td>\n",
       "      <td>-259.00</td>\n",
       "      <td>312.00</td>\n",
       "      <td>-186.0</td>\n",
       "      <td>276.00</td>\n",
       "      <td>-199.00</td>\n",
       "      <td>-199.00</td>\n",
       "      <td>276.00</td>\n",
       "      <td>...</td>\n",
       "      <td>-232.0</td>\n",
       "      <td>370.00</td>\n",
       "      <td>-160.000</td>\n",
       "      <td>-160.000</td>\n",
       "      <td>370.00</td>\n",
       "      <td>408.0</td>\n",
       "      <td>-169.00</td>\n",
       "      <td>-10.50</td>\n",
       "      <td>-10.50</td>\n",
       "      <td>-169.00</td>\n",
       "    </tr>\n",
       "    <tr>\n",
       "      <th>2130</th>\n",
       "      <td>109.0</td>\n",
       "      <td>2.48</td>\n",
       "      <td>49.00</td>\n",
       "      <td>49.00</td>\n",
       "      <td>2.48</td>\n",
       "      <td>-230.0</td>\n",
       "      <td>216.00</td>\n",
       "      <td>-92.40</td>\n",
       "      <td>-92.40</td>\n",
       "      <td>216.00</td>\n",
       "      <td>...</td>\n",
       "      <td>-99.7</td>\n",
       "      <td>124.00</td>\n",
       "      <td>-27.600</td>\n",
       "      <td>-27.600</td>\n",
       "      <td>124.00</td>\n",
       "      <td>-656.0</td>\n",
       "      <td>552.00</td>\n",
       "      <td>-271.00</td>\n",
       "      <td>-271.00</td>\n",
       "      <td>552.00</td>\n",
       "    </tr>\n",
       "    <tr>\n",
       "      <th>2131</th>\n",
       "      <td>127.0</td>\n",
       "      <td>5.49</td>\n",
       "      <td>-14.50</td>\n",
       "      <td>-14.50</td>\n",
       "      <td>5.49</td>\n",
       "      <td>127.0</td>\n",
       "      <td>4.71</td>\n",
       "      <td>-9.31</td>\n",
       "      <td>-9.31</td>\n",
       "      <td>4.71</td>\n",
       "      <td>...</td>\n",
       "      <td>181.0</td>\n",
       "      <td>1.95</td>\n",
       "      <td>1.810</td>\n",
       "      <td>1.810</td>\n",
       "      <td>1.95</td>\n",
       "      <td>110.0</td>\n",
       "      <td>-6.71</td>\n",
       "      <td>22.80</td>\n",
       "      <td>22.80</td>\n",
       "      <td>-6.71</td>\n",
       "    </tr>\n",
       "  </tbody>\n",
       "</table>\n",
       "<p>2132 rows × 750 columns</p>\n",
       "</div>"
      ],
      "text/plain": [
       "      fft_0_b  fft_1_b  fft_2_b  fft_3_b  fft_4_b  fft_5_b  fft_6_b  fft_7_b  \\\n",
       "0      -508.0   438.00  -222.00  -222.00   438.00    143.0    59.40     5.05   \n",
       "1       126.0    -4.00     7.42     7.42    -4.00     81.6   -22.30    35.30   \n",
       "2       -85.9   361.00   -62.20   -62.20   361.00   -558.0   684.00  -152.00   \n",
       "3        69.5     3.89    12.10    12.10     3.89   -188.0   274.00  -200.00   \n",
       "4       226.0   -27.40   147.00   147.00   -27.40    301.0    -8.48   138.00   \n",
       "...       ...      ...      ...      ...      ...      ...      ...      ...   \n",
       "2127    105.0     3.37    29.20    29.20     3.37    151.0   -19.40     8.89   \n",
       "2128    -23.0   202.00   -81.60   -81.60   202.00   -345.0   404.00  -205.00   \n",
       "2129   -288.0   312.00  -259.00  -259.00   312.00   -186.0   276.00  -199.00   \n",
       "2130    109.0     2.48    49.00    49.00     2.48   -230.0   216.00   -92.40   \n",
       "2131    127.0     5.49   -14.50   -14.50     5.49    127.0     4.71    -9.31   \n",
       "\n",
       "      fft_8_b  fft_9_b  ...  fft_740_b  fft_741_b  fft_742_b  fft_743_b  \\\n",
       "0        5.05    59.40  ...       74.3      23.50     20.300     20.300   \n",
       "1       35.30   -22.30  ...      130.0     -23.30    -21.800    -21.800   \n",
       "2     -152.00   684.00  ...     -534.0     462.00   -233.000   -233.000   \n",
       "3     -200.00   274.00  ...     -183.0     299.00   -243.000   -243.000   \n",
       "4      138.00    -8.48  ...      114.0      12.00     38.100     38.100   \n",
       "...       ...      ...  ...        ...        ...        ...        ...   \n",
       "2127     8.89   -19.40  ...      155.0     -21.70      0.218      0.218   \n",
       "2128  -205.00   404.00  ...     -661.0     594.00   -324.000   -324.000   \n",
       "2129  -199.00   276.00  ...     -232.0     370.00   -160.000   -160.000   \n",
       "2130   -92.40   216.00  ...      -99.7     124.00    -27.600    -27.600   \n",
       "2131    -9.31     4.71  ...      181.0       1.95      1.810      1.810   \n",
       "\n",
       "      fft_744_b  fft_745_b  fft_746_b  fft_747_b  fft_748_b  fft_749_b  \n",
       "0         23.50     -215.0     280.00    -162.00    -162.00     280.00  \n",
       "1        -23.30      182.0       2.57     -31.60     -31.60       2.57  \n",
       "2        462.00     -267.0     281.00    -148.00    -148.00     281.00  \n",
       "3        299.00      132.0     -12.40       9.53       9.53     -12.40  \n",
       "4         12.00      119.0     -17.60      23.90      23.90     -17.60  \n",
       "...         ...        ...        ...        ...        ...        ...  \n",
       "2127     -21.70       95.2     -19.90      47.20      47.20     -19.90  \n",
       "2128     594.00      -35.5     142.00     -59.80     -59.80     142.00  \n",
       "2129     370.00      408.0    -169.00     -10.50     -10.50    -169.00  \n",
       "2130     124.00     -656.0     552.00    -271.00    -271.00     552.00  \n",
       "2131       1.95      110.0      -6.71      22.80      22.80      -6.71  \n",
       "\n",
       "[2132 rows x 750 columns]"
      ]
     },
     "execution_count": 5,
     "metadata": {},
     "output_type": "execute_result"
    }
   ],
   "source": [
    "fft_data"
   ]
  },
  {
   "cell_type": "code",
   "execution_count": 6,
   "id": "69c6f5d1",
   "metadata": {
    "execution": {
     "iopub.execute_input": "2021-09-11T14:25:50.063710Z",
     "iopub.status.busy": "2021-09-11T14:25:50.063138Z",
     "iopub.status.idle": "2021-09-11T14:25:50.328857Z",
     "shell.execute_reply": "2021-09-11T14:25:50.329310Z",
     "shell.execute_reply.started": "2021-09-11T14:00:08.126352Z"
    },
    "papermill": {
     "duration": 0.289313,
     "end_time": "2021-09-11T14:25:50.329458",
     "exception": false,
     "start_time": "2021-09-11T14:25:50.040145",
     "status": "completed"
    },
    "tags": []
   },
   "outputs": [
    {
     "data": {
      "text/plain": [
       "<AxesSubplot:>"
      ]
     },
     "execution_count": 6,
     "metadata": {},
     "output_type": "execute_result"
    },
    {
     "data": {
      "image/png": "[encoded data removed]",
      "text/plain": [
       "<Figure size 1080x720 with 1 Axes>"
      ]
     },
     "metadata": {
      "needs_background": "light"
     },
     "output_type": "display_data"
    }
   ],
   "source": [
    "fft_data.iloc[0,:].plot(figsize=(15,10))"
   ]
  },
  {
   "cell_type": "markdown",
   "id": "8a86bc58",
   "metadata": {
    "papermill": {
     "duration": 0.023594,
     "end_time": "2021-09-11T14:25:50.377084",
     "exception": false,
     "start_time": "2021-09-11T14:25:50.353490",
     "status": "completed"
    },
    "tags": []
   },
   "source": [
    "### Encoding the 3 distinct labels "
   ]
  },
  {
   "cell_type": "markdown",
   "id": "6b76b5e8",
   "metadata": {
    "papermill": {
     "duration": 0.023509,
     "end_time": "2021-09-11T14:25:50.424293",
     "exception": false,
     "start_time": "2021-09-11T14:25:50.400784",
     "status": "completed"
    },
    "tags": []
   },
   "source": [
    "The 3 labels are : \"NEGATIVE\", \"NEUTRAL\" and \"POSITIVE\"."
   ]
  },
  {
   "cell_type": "code",
   "execution_count": 7,
   "id": "577278b1",
   "metadata": {
    "execution": {
     "iopub.execute_input": "2021-09-11T14:25:50.479824Z",
     "iopub.status.busy": "2021-09-11T14:25:50.479241Z",
     "iopub.status.idle": "2021-09-11T14:25:50.482012Z",
     "shell.execute_reply": "2021-09-11T14:25:50.482395Z",
     "shell.execute_reply.started": "2021-09-11T14:00:08.387375Z"
    },
    "papermill": {
     "duration": 0.03453,
     "end_time": "2021-09-11T14:25:50.482524",
     "exception": false,
     "start_time": "2021-09-11T14:25:50.447994",
     "status": "completed"
    },
    "tags": []
   },
   "outputs": [],
   "source": [
    "from sklearn.preprocessing import LabelEncoder\n",
    "le = LabelEncoder()\n",
    "data['label']=le.fit_transform(data['label'])"
   ]
  },
  {
   "cell_type": "markdown",
   "id": "bf7efd48",
   "metadata": {
    "papermill": {
     "duration": 0.023602,
     "end_time": "2021-09-11T14:25:50.529934",
     "exception": false,
     "start_time": "2021-09-11T14:25:50.506332",
     "status": "completed"
    },
    "tags": []
   },
   "source": [
    "### Defining necessary features for model training. "
   ]
  },
  {
   "cell_type": "code",
   "execution_count": 8,
   "id": "8a861459",
   "metadata": {
    "execution": {
     "iopub.execute_input": "2021-09-11T14:25:50.584582Z",
     "iopub.status.busy": "2021-09-11T14:25:50.583577Z",
     "iopub.status.idle": "2021-09-11T14:25:50.631351Z",
     "shell.execute_reply": "2021-09-11T14:25:50.630819Z",
     "shell.execute_reply.started": "2021-09-11T14:00:08.398771Z"
    },
    "papermill": {
     "duration": 0.077158,
     "end_time": "2021-09-11T14:25:50.631472",
     "exception": false,
     "start_time": "2021-09-11T14:25:50.554314",
     "status": "completed"
    },
    "tags": []
   },
   "outputs": [],
   "source": [
    "y = data.pop('label')\n",
    "X = data\n",
    "X_train, X_test, y_train, y_test = train_test_split(X, y, train_size=0.7, random_state=48)\n",
    "X_train = np.array(X_train).reshape((X_train.shape[0],X_train.shape[1],1))\n",
    "X_test = np.array(X_test).reshape((X_test.shape[0],X_test.shape[1],1))\n",
    "y_train = pd.get_dummies(y_train)\n",
    "y_test = pd.get_dummies(y_test)"
   ]
  },
  {
   "cell_type": "markdown",
   "id": "5dda8ddb",
   "metadata": {
    "papermill": {
     "duration": 0.023568,
     "end_time": "2021-09-11T14:25:50.679366",
     "exception": false,
     "start_time": "2021-09-11T14:25:50.655798",
     "status": "completed"
    },
    "tags": []
   },
   "source": [
    "### Defining the Model's architecture "
   ]
  },
  {
   "cell_type": "code",
   "execution_count": 9,
   "id": "9292c436",
   "metadata": {
    "execution": {
     "iopub.execute_input": "2021-09-11T14:25:50.732533Z",
     "iopub.status.busy": "2021-09-11T14:25:50.731956Z",
     "iopub.status.idle": "2021-09-11T14:25:52.761282Z",
     "shell.execute_reply": "2021-09-11T14:25:52.761955Z",
     "shell.execute_reply.started": "2021-09-11T14:00:08.454241Z"
    },
    "papermill": {
     "duration": 2.058836,
     "end_time": "2021-09-11T14:25:52.762170",
     "exception": false,
     "start_time": "2021-09-11T14:25:50.703334",
     "status": "completed"
    },
    "tags": []
   },
   "outputs": [
    {
     "name": "stdout",
     "output_type": "stream",
     "text": [
      "Model: \"model\"\n",
      "_________________________________________________________________\n",
      "Layer (type)                 Output Shape              Param #   \n",
      "=================================================================\n",
      "input_1 (InputLayer)         [(None, 2548, 1)]         0         \n",
      "_________________________________________________________________\n",
      "gru (GRU)                    (None, 2548, 256)         198144    \n",
      "_________________________________________________________________\n",
      "flatten (Flatten)            (None, 652288)            0         \n",
      "_________________________________________________________________\n",
      "dense (Dense)                (None, 3)                 1956867   \n",
      "=================================================================\n",
      "Total params: 2,155,011\n",
      "Trainable params: 2,155,011\n",
      "Non-trainable params: 0\n",
      "_________________________________________________________________\n"
     ]
    }
   ],
   "source": [
    "inputs = tf.keras.Input(shape=(X_train.shape[1],1))\n",
    "\n",
    "gru = tf.keras.layers.GRU(256, return_sequences=True)(inputs)\n",
    "flat = Flatten()(gru)\n",
    "outputs = Dense(3, activation='softmax')(flat)\n",
    "\n",
    "model = tf.keras.Model(inputs, outputs)\n",
    "\n",
    "model.summary()"
   ]
  },
  {
   "cell_type": "markdown",
   "id": "aac6b69e",
   "metadata": {
    "papermill": {
     "duration": 0.026308,
     "end_time": "2021-09-11T14:25:52.813612",
     "exception": false,
     "start_time": "2021-09-11T14:25:52.787304",
     "status": "completed"
    },
    "tags": []
   },
   "source": [
    "### Plotting the model "
   ]
  },
  {
   "cell_type": "code",
   "execution_count": 10,
   "id": "f03a6da8",
   "metadata": {
    "execution": {
     "iopub.execute_input": "2021-09-11T14:25:52.867857Z",
     "iopub.status.busy": "2021-09-11T14:25:52.867035Z",
     "iopub.status.idle": "2021-09-11T14:25:53.225976Z",
     "shell.execute_reply": "2021-09-11T14:25:53.225141Z",
     "shell.execute_reply.started": "2021-09-11T14:00:10.491556Z"
    },
    "papermill": {
     "duration": 0.388161,
     "end_time": "2021-09-11T14:25:53.226141",
     "exception": false,
     "start_time": "2021-09-11T14:25:52.837980",
     "status": "completed"
    },
    "tags": []
   },
   "outputs": [
    {
     "data": {
      "image/png": "[encoded data removed]",
      "text/plain": [
       "<IPython.core.display.Image object>"
      ]
     },
     "execution_count": 10,
     "metadata": {},
     "output_type": "execute_result"
    }
   ],
   "source": [
    "tf.keras.utils.plot_model(model)"
   ]
  },
  {
   "cell_type": "markdown",
   "id": "27ffd495",
   "metadata": {
    "papermill": {
     "duration": 0.024464,
     "end_time": "2021-09-11T14:25:53.276095",
     "exception": false,
     "start_time": "2021-09-11T14:25:53.251631",
     "status": "completed"
    },
    "tags": []
   },
   "source": [
    "### Training the model. "
   ]
  },
  {
   "cell_type": "markdown",
   "id": "c059125b",
   "metadata": {
    "papermill": {
     "duration": 0.024472,
     "end_time": "2021-09-11T14:25:53.325073",
     "exception": false,
     "start_time": "2021-09-11T14:25:53.300601",
     "status": "completed"
    },
    "tags": []
   },
   "source": [
    "The loss function used will be 'Categorical_CrossEntropy'. We will be using callback functions like Early_Stopping to avoid overfitting and lr_scheduler to change the learning rate while model trains.\n",
    "\n",
    "We will be training for 100 epochs starting with learning_rate = 0.001 and batch_size = 64."
   ]
  },
  {
   "cell_type": "code",
   "execution_count": 11,
   "id": "c6c93546",
   "metadata": {
    "execution": {
     "iopub.execute_input": "2021-09-11T14:25:53.382571Z",
     "iopub.status.busy": "2021-09-11T14:25:53.381823Z",
     "iopub.status.idle": "2021-09-11T14:25:53.383965Z",
     "shell.execute_reply": "2021-09-11T14:25:53.384395Z",
     "shell.execute_reply.started": "2021-09-11T14:00:10.842420Z"
    },
    "papermill": {
     "duration": 0.034996,
     "end_time": "2021-09-11T14:25:53.384520",
     "exception": false,
     "start_time": "2021-09-11T14:25:53.349524",
     "status": "completed"
    },
    "tags": []
   },
   "outputs": [],
   "source": [
    "def train_model(model,x_train, y_train,x_test,y_test, save_to, epoch = 2):\n",
    "\n",
    "        opt_adam = keras.optimizers.Adam(learning_rate=0.001)\n",
    "\n",
    "        es = EarlyStopping(monitor='val_loss', mode='min', verbose=1, patience=10)\n",
    "        mc = ModelCheckpoint(save_to + '_best_model.h5', monitor='val_accuracy', mode='max', verbose=1, save_best_only=True)\n",
    "        lr_schedule = tf.keras.callbacks.LearningRateScheduler(lambda epoch: 0.001 * np.exp(-epoch / 10.))\n",
    "        \n",
    "        model.compile(optimizer=opt_adam,\n",
    "                  loss=['categorical_crossentropy'],\n",
    "                  metrics=['accuracy'])\n",
    "        \n",
    "        history = model.fit(x_train,y_train,\n",
    "                        batch_size=32,\n",
    "                        epochs=epoch,\n",
    "                        validation_data=(x_test,y_test),\n",
    "                        callbacks=[es,mc,lr_schedule])\n",
    "        \n",
    "        saved_model = load_model(save_to + '_best_model.h5')\n",
    "        \n",
    "        return model,history"
   ]
  },
  {
   "cell_type": "code",
   "execution_count": 12,
   "id": "75e966f2",
   "metadata": {
    "execution": {
     "iopub.execute_input": "2021-09-11T14:25:53.445686Z",
     "iopub.status.busy": "2021-09-11T14:25:53.444913Z",
     "iopub.status.idle": "2021-09-11T16:01:28.904887Z",
     "shell.execute_reply": "2021-09-11T16:01:28.905287Z",
     "shell.execute_reply.started": "2021-09-11T14:00:10.852444Z"
    },
    "papermill": {
     "duration": 5735.496491,
     "end_time": "2021-09-11T16:01:28.905458",
     "exception": false,
     "start_time": "2021-09-11T14:25:53.408967",
     "status": "completed"
    },
    "tags": []
   },
   "outputs": [
    {
     "name": "stdout",
     "output_type": "stream",
     "text": [
      "Epoch 1/40\n",
      "47/47 [==============================] - 362s 8s/step - loss: 80.5641 - accuracy: 0.6353 - val_loss: 6.7063 - val_accuracy: 0.9219\n",
      "\n",
      "Epoch 00001: val_accuracy improved from -inf to 0.92188, saving model to ./_best_model.h5\n",
      "Epoch 2/40\n",
      "47/47 [==============================] - 359s 8s/step - loss: 10.7318 - accuracy: 0.8962 - val_loss: 2.4050 - val_accuracy: 0.9438\n",
      "\n",
      "Epoch 00002: val_accuracy improved from 0.92188 to 0.94375, saving model to ./_best_model.h5\n",
      "Epoch 3/40\n",
      "47/47 [==============================] - 358s 8s/step - loss: 4.2519 - accuracy: 0.9277 - val_loss: 1.2607 - val_accuracy: 0.9672\n",
      "\n",
      "Epoch 00003: val_accuracy improved from 0.94375 to 0.96719, saving model to ./_best_model.h5\n",
      "Epoch 4/40\n",
      "47/47 [==============================] - 357s 8s/step - loss: 0.7786 - accuracy: 0.9740 - val_loss: 0.9202 - val_accuracy: 0.9766\n",
      "\n",
      "Epoch 00004: val_accuracy improved from 0.96719 to 0.97656, saving model to ./_best_model.h5\n",
      "Epoch 5/40\n",
      "47/47 [==============================] - 355s 8s/step - loss: 0.7563 - accuracy: 0.9809 - val_loss: 1.1277 - val_accuracy: 0.9750\n",
      "\n",
      "Epoch 00005: val_accuracy did not improve from 0.97656\n",
      "Epoch 6/40\n",
      "47/47 [==============================] - 356s 8s/step - loss: 0.4221 - accuracy: 0.9827 - val_loss: 0.8598 - val_accuracy: 0.9812\n",
      "\n",
      "Epoch 00006: val_accuracy improved from 0.97656 to 0.98125, saving model to ./_best_model.h5\n",
      "Epoch 7/40\n",
      "47/47 [==============================] - 356s 8s/step - loss: 6.8168e-07 - accuracy: 1.0000 - val_loss: 0.9432 - val_accuracy: 0.9812\n",
      "\n",
      "Epoch 00007: val_accuracy did not improve from 0.98125\n",
      "Epoch 8/40\n",
      "47/47 [==============================] - 356s 8s/step - loss: 3.5806e-06 - accuracy: 1.0000 - val_loss: 0.9317 - val_accuracy: 0.9812\n",
      "\n",
      "Epoch 00008: val_accuracy did not improve from 0.98125\n",
      "Epoch 9/40\n",
      "47/47 [==============================] - 359s 8s/step - loss: 3.2798e-07 - accuracy: 1.0000 - val_loss: 0.9281 - val_accuracy: 0.9812\n",
      "\n",
      "Epoch 00009: val_accuracy did not improve from 0.98125\n",
      "Epoch 10/40\n",
      "47/47 [==============================] - 359s 8s/step - loss: 1.0577e-06 - accuracy: 1.0000 - val_loss: 0.9258 - val_accuracy: 0.9812\n",
      "\n",
      "Epoch 00010: val_accuracy did not improve from 0.98125\n",
      "Epoch 11/40\n",
      "47/47 [==============================] - 359s 8s/step - loss: 2.4733e-07 - accuracy: 1.0000 - val_loss: 0.9252 - val_accuracy: 0.9812\n",
      "\n",
      "Epoch 00011: val_accuracy did not improve from 0.98125\n",
      "Epoch 12/40\n",
      "47/47 [==============================] - 359s 8s/step - loss: 1.2514e-06 - accuracy: 1.0000 - val_loss: 0.9234 - val_accuracy: 0.9812\n",
      "\n",
      "Epoch 00012: val_accuracy did not improve from 0.98125\n",
      "Epoch 13/40\n",
      "47/47 [==============================] - 358s 8s/step - loss: 3.2884e-07 - accuracy: 1.0000 - val_loss: 0.9227 - val_accuracy: 0.9812\n",
      "\n",
      "Epoch 00013: val_accuracy did not improve from 0.98125\n",
      "Epoch 14/40\n",
      "47/47 [==============================] - 359s 8s/step - loss: 6.4308e-07 - accuracy: 1.0000 - val_loss: 0.9221 - val_accuracy: 0.9812\n",
      "\n",
      "Epoch 00014: val_accuracy did not improve from 0.98125\n",
      "Epoch 15/40\n",
      "47/47 [==============================] - 360s 8s/step - loss: 7.2962e-07 - accuracy: 1.0000 - val_loss: 0.9216 - val_accuracy: 0.9812\n",
      "\n",
      "Epoch 00015: val_accuracy did not improve from 0.98125\n",
      "Epoch 16/40\n",
      "47/47 [==============================] - 361s 8s/step - loss: 2.1239e-07 - accuracy: 1.0000 - val_loss: 0.9212 - val_accuracy: 0.9812\n",
      "\n",
      "Epoch 00016: val_accuracy did not improve from 0.98125\n",
      "Epoch 00016: early stopping\n"
     ]
    }
   ],
   "source": [
    "model,history = train_model(model, X_train, y_train,X_test, y_test, save_to= './', epoch = 40) "
   ]
  },
  {
   "cell_type": "markdown",
   "id": "3497a2cd",
   "metadata": {
    "papermill": {
     "duration": 0.224025,
     "end_time": "2021-09-11T16:01:29.354447",
     "exception": false,
     "start_time": "2021-09-11T16:01:29.130422",
     "status": "completed"
    },
    "tags": []
   },
   "source": [
    "### Plotting the validation curves "
   ]
  },
  {
   "cell_type": "code",
   "execution_count": 13,
   "id": "c25b13d7",
   "metadata": {
    "execution": {
     "iopub.execute_input": "2021-09-11T16:01:29.813312Z",
     "iopub.status.busy": "2021-09-11T16:01:29.812475Z",
     "iopub.status.idle": "2021-09-11T16:01:30.260256Z",
     "shell.execute_reply": "2021-09-11T16:01:30.260673Z",
     "shell.execute_reply.started": "2021-09-11T14:06:18.196759Z"
    },
    "papermill": {
     "duration": 0.683323,
     "end_time": "2021-09-11T16:01:30.260817",
     "exception": false,
     "start_time": "2021-09-11T16:01:29.577494",
     "status": "completed"
    },
    "tags": []
   },
   "outputs": [
    {
     "data": {
      "image/png": "[encoded data removed]",
      "text/plain": [
       "<Figure size 432x288 with 1 Axes>"
      ]
     },
     "metadata": {
      "needs_background": "light"
     },
     "output_type": "display_data"
    },
    {
     "data": {
      "image/png": "[encoded data removed]",
      "text/plain": [
       "<Figure size 432x288 with 1 Axes>"
      ]
     },
     "metadata": {
      "needs_background": "light"
     },
     "output_type": "display_data"
    }
   ],
   "source": [
    "plt.plot(history.history['accuracy'])\n",
    "plt.plot(history.history['val_accuracy'])\n",
    "plt.title('model accuracy')\n",
    "plt.ylabel('accuracy')\n",
    "plt.xlabel('epoch')\n",
    "plt.legend(['train', 'test'], loc='upper left')\n",
    "plt.show()\n",
    "# summarize history for loss\n",
    "plt.plot(history.history['loss'])\n",
    "plt.plot(history.history['val_loss'])\n",
    "plt.title('model loss')\n",
    "plt.ylabel('loss')\n",
    "plt.xlabel('epoch')\n",
    "plt.legend(['train', 'test'], loc='upper left')\n",
    "plt.show()"
   ]
  },
  {
   "cell_type": "markdown",
   "id": "a191b51b",
   "metadata": {
    "papermill": {
     "duration": 0.227698,
     "end_time": "2021-09-11T16:01:30.716231",
     "exception": false,
     "start_time": "2021-09-11T16:01:30.488533",
     "status": "completed"
    },
    "tags": []
   },
   "source": [
    "### Evaluating the model "
   ]
  },
  {
   "cell_type": "markdown",
   "id": "0e5e72cd",
   "metadata": {
    "papermill": {
     "duration": 0.225819,
     "end_time": "2021-09-11T16:01:31.167466",
     "exception": false,
     "start_time": "2021-09-11T16:01:30.941647",
     "status": "completed"
    },
    "tags": []
   },
   "source": [
    "1. Test accuracy"
   ]
  },
  {
   "cell_type": "code",
   "execution_count": 14,
   "id": "921222b5",
   "metadata": {
    "execution": {
     "iopub.execute_input": "2021-09-11T16:01:31.628334Z",
     "iopub.status.busy": "2021-09-11T16:01:31.627667Z",
     "iopub.status.idle": "2021-09-11T16:01:42.259336Z",
     "shell.execute_reply": "2021-09-11T16:01:42.258746Z",
     "shell.execute_reply.started": "2021-09-11T14:06:18.642126Z"
    },
    "papermill": {
     "duration": 10.862104,
     "end_time": "2021-09-11T16:01:42.259487",
     "exception": false,
     "start_time": "2021-09-11T16:01:31.397383",
     "status": "completed"
    },
    "tags": []
   },
   "outputs": [
    {
     "name": "stdout",
     "output_type": "stream",
     "text": [
      "Test Accuracy: 98.125%\n"
     ]
    }
   ],
   "source": [
    "model_acc = model.evaluate(X_test, y_test, verbose=0)[1]\n",
    "print(\"Test Accuracy: {:.3f}%\".format(model_acc * 100))"
   ]
  },
  {
   "cell_type": "markdown",
   "id": "f429af5d",
   "metadata": {
    "papermill": {
     "duration": 0.230244,
     "end_time": "2021-09-11T16:01:42.726760",
     "exception": false,
     "start_time": "2021-09-11T16:01:42.496516",
     "status": "completed"
    },
    "tags": []
   },
   "source": [
    "2. Confusion matrix along with classification reports (includes metrics like precision, F1-score)"
   ]
  },
  {
   "cell_type": "code",
   "execution_count": 15,
   "id": "6d939b64",
   "metadata": {
    "execution": {
     "iopub.execute_input": "2021-09-11T16:01:43.194800Z",
     "iopub.status.busy": "2021-09-11T16:01:43.193883Z",
     "iopub.status.idle": "2021-09-11T16:01:54.038700Z",
     "shell.execute_reply": "2021-09-11T16:01:54.039367Z",
     "shell.execute_reply.started": "2021-09-11T14:23:36.496299Z"
    },
    "papermill": {
     "duration": 11.081837,
     "end_time": "2021-09-11T16:01:54.039594",
     "exception": false,
     "start_time": "2021-09-11T16:01:42.957757",
     "status": "completed"
    },
    "tags": []
   },
   "outputs": [
    {
     "data": {
      "image/png": "[encoded data removed]",
      "text/plain": [
       "<Figure size 576x576 with 1 Axes>"
      ]
     },
     "metadata": {
      "needs_background": "light"
     },
     "output_type": "display_data"
    },
    {
     "name": "stdout",
     "output_type": "stream",
     "text": [
      "Classification Report:\n",
      "----------------------\n",
      "               precision    recall  f1-score   support\n",
      "\n",
      "           0       0.96      0.99      0.98       205\n",
      "           1       1.00      0.99      1.00       224\n",
      "           2       0.98      0.96      0.97       211\n",
      "\n",
      "    accuracy                           0.98       640\n",
      "   macro avg       0.98      0.98      0.98       640\n",
      "weighted avg       0.98      0.98      0.98       640\n",
      "\n"
     ]
    }
   ],
   "source": [
    "y_pred = np.array(list(map(lambda x: np.argmax(x), model.predict(X_test))))\n",
    "y_test = y_test.idxmax(axis=1)\n",
    "\n",
    "cm = confusion_matrix(y_test, y_pred)\n",
    "clr = classification_report(y_test, y_pred)\n",
    "\n",
    "plt.figure(figsize=(8, 8))\n",
    "sns.heatmap(cm, annot=True, vmin=0, fmt='g', cbar=False, cmap='Blues')\n",
    "plt.xlabel(\"Predicted\")\n",
    "plt.ylabel(\"Actual\")\n",
    "plt.title(\"Confusion Matrix\")\n",
    "plt.show()\n",
    "\n",
    "print(\"Classification Report:\\n----------------------\\n\", clr)"
   ]
  },
  {
   "cell_type": "code",
   "execution_count": null,
   "id": "b1a5db80",
   "metadata": {
    "papermill": {
     "duration": 0.223755,
     "end_time": "2021-09-11T16:01:55.395551",
     "exception": false,
     "start_time": "2021-09-11T16:01:55.171796",
     "status": "completed"
    },
    "tags": []
   },
   "outputs": [],
   "source": []
  }
 ],
 "metadata": {
  "kernelspec": {
   "display_name": "Python 3 (ipykernel)",
   "language": "python",
   "name": "python3"
  },
  "language_info": {
   "codemirror_mode": {
    "name": "ipython",
    "version": 3
   },
   "file_extension": ".py",
   "mimetype": "text/x-python",
   "name": "python",
   "nbconvert_exporter": "python",
   "pygments_lexer": "ipython3",
   "version": "3.9.12"
  },
  "papermill": {
   "default_parameters": {},
   "duration": 5782.408461,
   "end_time": "2021-09-11T16:01:57.653116",
   "environment_variables": {},
   "exception": null,
   "input_path": "__notebook__.ipynb",
   "output_path": "__notebook__.ipynb",
   "parameters": {},
   "start_time": "2021-09-11T14:25:35.244655",
   "version": "2.3.3"
  }
 },
 "nbformat": 4,
 "nbformat_minor": 5
}
